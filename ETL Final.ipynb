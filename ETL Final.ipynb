{
 "cells": [
  {
   "cell_type": "markdown",
   "metadata": {},
   "source": [
    "# Group 1 ETL Project"
   ]
  },
  {
   "cell_type": "markdown",
   "metadata": {},
   "source": [
    "### Introduction..."
   ]
  },
  {
   "cell_type": "code",
   "execution_count": 1,
   "metadata": {},
   "outputs": [],
   "source": [
    "import pandas as pd\n",
    "import numpy as np\n",
    "import os"
   ]
  },
  {
   "cell_type": "markdown",
   "metadata": {},
   "source": [
    "# Crime data in Mexico City"
   ]
  },
  {
   "cell_type": "markdown",
   "metadata": {},
   "source": [
    "You can download the data in the next link: https://drive.google.com/file/d/1uD9NdAsV3tlXhqvv6WEpV5nR8gqDjsN7/view"
   ]
  },
  {
   "cell_type": "code",
   "execution_count": null,
   "metadata": {},
   "outputs": [],
   "source": [
    "#path=os.path.join(\"Resources\",\"IDM_NM_feb2021.csv\")\n",
    "#crime=pd.read_csv(path,encoding=\"Latin-1\")"
   ]
  },
  {
   "cell_type": "code",
   "execution_count": null,
   "metadata": {},
   "outputs": [],
   "source": [
    "crime.head(3)"
   ]
  },
  {
   "cell_type": "code",
   "execution_count": null,
   "metadata": {
    "scrolled": false
   },
   "outputs": [],
   "source": [
    "crime['Tipo de delito'].unique()"
   ]
  },
  {
   "cell_type": "code",
   "execution_count": null,
   "metadata": {},
   "outputs": [],
   "source": [
    "crime=crime[crime['Tipo de delito']==\"Robo\"]\n",
    "crime['Subtipo de delito'].unique()"
   ]
  },
  {
   "cell_type": "code",
   "execution_count": null,
   "metadata": {},
   "outputs": [],
   "source": [
    "cols=['Enero',\n",
    " 'Febrero',\n",
    " 'Marzo',\n",
    " 'Abril',\n",
    " 'Mayo',\n",
    " 'Junio',\n",
    " 'Julio',\n",
    " 'Agosto',\n",
    " 'Septiembre',\n",
    " 'Octubre',\n",
    " 'Noviembre',\n",
    " 'Diciembre']"
   ]
  },
  {
   "cell_type": "code",
   "execution_count": null,
   "metadata": {},
   "outputs": [],
   "source": [
    "list(crime)"
   ]
  },
  {
   "cell_type": "code",
   "execution_count": null,
   "metadata": {},
   "outputs": [],
   "source": [
    "crime[\"tot_robs\"]=crime[cols].sum(axis=1)"
   ]
  },
  {
   "cell_type": "code",
   "execution_count": null,
   "metadata": {},
   "outputs": [],
   "source": [
    "#we want only CDMX which code is 9\n",
    "cl1=(crime['Clave_Ent']==9)\n",
    "#We want 2020 to match COVID and CENSUS\n",
    "cl2=(crime[\"Año\"]<2021)\n",
    "\n",
    "crime=crime[cl1&cl2]"
   ]
  },
  {
   "cell_type": "code",
   "execution_count": null,
   "metadata": {},
   "outputs": [],
   "source": [
    "#Collecting only the columns we are interested in\n",
    "cols=['Año',\n",
    " 'Cve. Municipio',\n",
    " 'Municipio',\n",
    " 'Modalidad',\n",
    " 'tot_robs']\n",
    "\n",
    "crime=crime[cols]\n",
    "\n",
    "crime.rename(columns={\"Año\":\"year\",\"Cve. Municipio\":\"cmun\",\"Municipio\":\"mun\",\"Modalidad\":'modality'},inplace=True)"
   ]
  },
  {
   "cell_type": "code",
   "execution_count": null,
   "metadata": {},
   "outputs": [],
   "source": [
    "crime=crime[crime.cmun<9016]"
   ]
  },
  {
   "cell_type": "code",
   "execution_count": null,
   "metadata": {},
   "outputs": [],
   "source": [
    "crime=crime.groupby(['year','cmun','mun','modality'],as_index=False).sum()"
   ]
  },
  {
   "cell_type": "code",
   "execution_count": null,
   "metadata": {},
   "outputs": [],
   "source": [
    "crime.head()"
   ]
  },
  {
   "cell_type": "code",
   "execution_count": null,
   "metadata": {},
   "outputs": [],
   "source": [
    "path=os.path.join(\"Resources\",\"crime.csv\")\n",
    "crime.to_csv(path,index=False)"
   ]
  },
  {
   "cell_type": "code",
   "execution_count": 13,
   "metadata": {},
   "outputs": [
    {
     "data": {
      "text/html": [
       "<div>\n",
       "<style scoped>\n",
       "    .dataframe tbody tr th:only-of-type {\n",
       "        vertical-align: middle;\n",
       "    }\n",
       "\n",
       "    .dataframe tbody tr th {\n",
       "        vertical-align: top;\n",
       "    }\n",
       "\n",
       "    .dataframe thead th {\n",
       "        text-align: right;\n",
       "    }\n",
       "</style>\n",
       "<table border=\"1\" class=\"dataframe\">\n",
       "  <thead>\n",
       "    <tr style=\"text-align: right;\">\n",
       "      <th></th>\n",
       "      <th>year</th>\n",
       "      <th>cmun</th>\n",
       "      <th>mun</th>\n",
       "      <th>modality</th>\n",
       "      <th>tot_robs</th>\n",
       "    </tr>\n",
       "  </thead>\n",
       "  <tbody>\n",
       "    <tr>\n",
       "      <th>0</th>\n",
       "      <td>2015</td>\n",
       "      <td>9002</td>\n",
       "      <td>Azcapotzalco</td>\n",
       "      <td>Con violencia</td>\n",
       "      <td>883.0</td>\n",
       "    </tr>\n",
       "    <tr>\n",
       "      <th>1</th>\n",
       "      <td>2015</td>\n",
       "      <td>9002</td>\n",
       "      <td>Azcapotzalco</td>\n",
       "      <td>Robo de cables, tubos y otros objetos destinad...</td>\n",
       "      <td>0.0</td>\n",
       "    </tr>\n",
       "    <tr>\n",
       "      <th>2</th>\n",
       "      <td>2015</td>\n",
       "      <td>9002</td>\n",
       "      <td>Azcapotzalco</td>\n",
       "      <td>Robo de cables, tubos y otros objetos destinad...</td>\n",
       "      <td>0.0</td>\n",
       "    </tr>\n",
       "    <tr>\n",
       "      <th>3</th>\n",
       "      <td>2015</td>\n",
       "      <td>9002</td>\n",
       "      <td>Azcapotzalco</td>\n",
       "      <td>Robo de coche de 4 ruedas Con violencia</td>\n",
       "      <td>159.0</td>\n",
       "    </tr>\n",
       "    <tr>\n",
       "      <th>4</th>\n",
       "      <td>2015</td>\n",
       "      <td>9002</td>\n",
       "      <td>Azcapotzalco</td>\n",
       "      <td>Robo de coche de 4 ruedas Sin violencia</td>\n",
       "      <td>559.0</td>\n",
       "    </tr>\n",
       "  </tbody>\n",
       "</table>\n",
       "</div>"
      ],
      "text/plain": [
       "   year  cmun           mun  \\\n",
       "0  2015  9002  Azcapotzalco   \n",
       "1  2015  9002  Azcapotzalco   \n",
       "2  2015  9002  Azcapotzalco   \n",
       "3  2015  9002  Azcapotzalco   \n",
       "4  2015  9002  Azcapotzalco   \n",
       "\n",
       "                                            modality  tot_robs  \n",
       "0                                      Con violencia     883.0  \n",
       "1  Robo de cables, tubos y otros objetos destinad...       0.0  \n",
       "2  Robo de cables, tubos y otros objetos destinad...       0.0  \n",
       "3            Robo de coche de 4 ruedas Con violencia     159.0  \n",
       "4            Robo de coche de 4 ruedas Sin violencia     559.0  "
      ]
     },
     "execution_count": 13,
     "metadata": {},
     "output_type": "execute_result"
    }
   ],
   "source": [
    "crime_df.head()"
   ]
  },
  {
   "cell_type": "markdown",
   "metadata": {},
   "source": [
    "# Population data in Mexico City"
   ]
  },
  {
   "cell_type": "code",
   "execution_count": null,
   "metadata": {},
   "outputs": [],
   "source": [
    "#path=os.path.join(\"Resources\",\"ITER_NALCSV20.csv\")\n",
    "#pop=pd.read_csv(path,encoding=\"Latin-1\")"
   ]
  },
  {
   "cell_type": "markdown",
   "metadata": {},
   "source": [
    "You can download the data in the next link: https://www.inegi.org.mx/programas/ccpv/2020/#Datos_abiertos"
   ]
  },
  {
   "cell_type": "code",
   "execution_count": null,
   "metadata": {},
   "outputs": [],
   "source": [
    "pop.tail(2)"
   ]
  },
  {
   "cell_type": "code",
   "execution_count": null,
   "metadata": {},
   "outputs": [],
   "source": [
    "# We only want pop in Mexico City, code 9\n",
    "pop=pop[pop['ï»¿ENTIDAD']==9]\n",
    "# We kept only \n",
    "pop=pop[['ï»¿ENTIDAD','MUN','POBTOT']]\n",
    "\n",
    "pop.rename(columns={'ï»¿ENTIDAD':'state','MUN':'mun','POBTOT':'totpop'},inplace=True)"
   ]
  },
  {
   "cell_type": "code",
   "execution_count": null,
   "metadata": {},
   "outputs": [],
   "source": [
    "pop=pop[pop['mun']>0]\n",
    "pop['cmun']=pop.state*1000+pop.mun\n",
    "pop=pop[['cmun','totpop']].groupby('cmun',as_index=False).sum()"
   ]
  },
  {
   "cell_type": "code",
   "execution_count": null,
   "metadata": {},
   "outputs": [],
   "source": [
    "pop['year']=2020"
   ]
  },
  {
   "cell_type": "code",
   "execution_count": null,
   "metadata": {},
   "outputs": [],
   "source": [
    "pop"
   ]
  },
  {
   "cell_type": "code",
   "execution_count": null,
   "metadata": {},
   "outputs": [],
   "source": [
    "path=os.path.join(\"Resources\",\"population.csv\")\n",
    "pop.to_csv(path,index=False)"
   ]
  },
  {
   "cell_type": "code",
   "execution_count": 17,
   "metadata": {},
   "outputs": [
    {
     "data": {
      "text/html": [
       "<div>\n",
       "<style scoped>\n",
       "    .dataframe tbody tr th:only-of-type {\n",
       "        vertical-align: middle;\n",
       "    }\n",
       "\n",
       "    .dataframe tbody tr th {\n",
       "        vertical-align: top;\n",
       "    }\n",
       "\n",
       "    .dataframe thead th {\n",
       "        text-align: right;\n",
       "    }\n",
       "</style>\n",
       "<table border=\"1\" class=\"dataframe\">\n",
       "  <thead>\n",
       "    <tr style=\"text-align: right;\">\n",
       "      <th></th>\n",
       "      <th>cmun</th>\n",
       "      <th>totpop</th>\n",
       "      <th>year</th>\n",
       "    </tr>\n",
       "  </thead>\n",
       "  <tbody>\n",
       "    <tr>\n",
       "      <th>0</th>\n",
       "      <td>9002</td>\n",
       "      <td>864410</td>\n",
       "      <td>2020</td>\n",
       "    </tr>\n",
       "    <tr>\n",
       "      <th>1</th>\n",
       "      <td>9003</td>\n",
       "      <td>1228894</td>\n",
       "      <td>2020</td>\n",
       "    </tr>\n",
       "    <tr>\n",
       "      <th>2</th>\n",
       "      <td>9004</td>\n",
       "      <td>435415</td>\n",
       "      <td>2020</td>\n",
       "    </tr>\n",
       "    <tr>\n",
       "      <th>3</th>\n",
       "      <td>9005</td>\n",
       "      <td>2346702</td>\n",
       "      <td>2020</td>\n",
       "    </tr>\n",
       "    <tr>\n",
       "      <th>4</th>\n",
       "      <td>9006</td>\n",
       "      <td>809390</td>\n",
       "      <td>2020</td>\n",
       "    </tr>\n",
       "  </tbody>\n",
       "</table>\n",
       "</div>"
      ],
      "text/plain": [
       "   cmun   totpop  year\n",
       "0  9002   864410  2020\n",
       "1  9003  1228894  2020\n",
       "2  9004   435415  2020\n",
       "3  9005  2346702  2020\n",
       "4  9006   809390  2020"
      ]
     },
     "execution_count": 17,
     "metadata": {},
     "output_type": "execute_result"
    }
   ],
   "source": [
    "population_df.head()"
   ]
  },
  {
   "cell_type": "markdown",
   "metadata": {},
   "source": [
    "# COVID cases in Mexico City"
   ]
  },
  {
   "cell_type": "code",
   "execution_count": null,
   "metadata": {},
   "outputs": [],
   "source": [
    "#path=os.path.join(\"Resources\",\"sisver_public.csv\")\n",
    "#covid=pd.read_csv(path,encoding=\"Latin-1\")"
   ]
  },
  {
   "cell_type": "markdown",
   "metadata": {},
   "source": [
    "The data can be downladed in the next link: https://datos.cdmx.gob.mx/dataset/base-covid-sinave"
   ]
  },
  {
   "cell_type": "code",
   "execution_count": null,
   "metadata": {},
   "outputs": [],
   "source": [
    "covid=covid[covid['cventine']==9]"
   ]
  },
  {
   "cell_type": "code",
   "execution_count": null,
   "metadata": {},
   "outputs": [],
   "source": [
    "pd.set_option('display.max_columns', None)"
   ]
  },
  {
   "cell_type": "code",
   "execution_count": null,
   "metadata": {},
   "outputs": [],
   "source": [
    "covid['year']=[i[:4] for i in covid['fechreg']]"
   ]
  },
  {
   "cell_type": "code",
   "execution_count": null,
   "metadata": {},
   "outputs": [],
   "source": [
    "covid=covid[['year','cventine','cvemuni','tipacien','evoluci','id']]"
   ]
  },
  {
   "cell_type": "code",
   "execution_count": null,
   "metadata": {},
   "outputs": [],
   "source": [
    "covid=covid.groupby(['year','cventine','cvemuni','tipacien','evoluci'],as_index=False).count()"
   ]
  },
  {
   "cell_type": "code",
   "execution_count": null,
   "metadata": {},
   "outputs": [],
   "source": [
    "covid['cmun']=covid['cventine']*1000+covid['cvemuni']"
   ]
  },
  {
   "cell_type": "code",
   "execution_count": null,
   "metadata": {},
   "outputs": [],
   "source": [
    "covid.head()"
   ]
  },
  {
   "cell_type": "code",
   "execution_count": null,
   "metadata": {},
   "outputs": [],
   "source": [
    "path=os.path.join(\"Resources\",\"covid.csv\")\n",
    "covid.to_csv(path,index=False)"
   ]
  },
  {
   "cell_type": "markdown",
   "metadata": {},
   "source": [
    "## Load stage"
   ]
  },
  {
   "cell_type": "code",
   "execution_count": 2,
   "metadata": {},
   "outputs": [],
   "source": [
    "# Convert transformed csv files into dataframes\n",
    "\n",
    "path_crime=os.path.join(\"Resources\",\"crime.csv\")\n",
    "crime_df=pd.read_csv(path_crime,encoding=\"Latin-1\")\n",
    "\n",
    "path_population=os.path.join(\"Resources\",\"population.csv\")\n",
    "population_df=pd.read_csv(path_population,encoding=\"Latin-1\")\n",
    "\n",
    "path_covid=os.path.join(\"Resources\",\"covid.csv\")\n",
    "covid_df=pd.read_csv(path_covid,encoding=\"Latin-1\")\n"
   ]
  },
  {
   "cell_type": "markdown",
   "metadata": {},
   "source": [
    "### Connect to database"
   ]
  },
  {
   "cell_type": "code",
   "execution_count": 9,
   "metadata": {},
   "outputs": [],
   "source": [
    " \n",
    "from sqlalchemy import create_engine\n",
    "rds_connection_string = \"postgres:postgres@localhost:5432/ETL Project\"\n",
    "engine = create_engine(f'postgresql://{rds_connection_string}')"
   ]
  },
  {
   "cell_type": "code",
   "execution_count": 11,
   "metadata": {},
   "outputs": [
    {
     "name": "stdout",
     "output_type": "stream",
     "text": [
      "Collecting psycopg2-binary\n",
      "  Downloading psycopg2_binary-2.8.6-cp37-cp37m-macosx_10_6_intel.macosx_10_9_intel.macosx_10_9_x86_64.macosx_10_10_intel.macosx_10_10_x86_64.whl (1.5 MB)\n",
      "\u001b[K     |████████████████████████████████| 1.5 MB 1.4 MB/s eta 0:00:01\n",
      "\u001b[?25hInstalling collected packages: psycopg2-binary\n",
      "Successfully installed psycopg2-binary-2.8.6\n"
     ]
    }
   ],
   "source": [
    "!pip install psycopg2-binary"
   ]
  },
  {
   "cell_type": "markdown",
   "metadata": {},
   "source": [
    "### Load into database"
   ]
  },
  {
   "cell_type": "code",
   "execution_count": 21,
   "metadata": {},
   "outputs": [],
   "source": [
    "crime_df.to_sql(name='crime', con=engine, if_exists='append', index=False)\n",
    "population_df.to_sql(name='population', con=engine, if_exists='append', index=False)  \n",
    "covid_df.to_sql(name='covid', con=engine, if_exists='append', index=False)  "
   ]
  },
  {
   "cell_type": "markdown",
   "metadata": {},
   "source": [
    "### Query in database"
   ]
  },
  {
   "cell_type": "code",
   "execution_count": 22,
   "metadata": {},
   "outputs": [
    {
     "data": {
      "text/html": [
       "<div>\n",
       "<style scoped>\n",
       "    .dataframe tbody tr th:only-of-type {\n",
       "        vertical-align: middle;\n",
       "    }\n",
       "\n",
       "    .dataframe tbody tr th {\n",
       "        vertical-align: top;\n",
       "    }\n",
       "\n",
       "    .dataframe thead th {\n",
       "        text-align: right;\n",
       "    }\n",
       "</style>\n",
       "<table border=\"1\" class=\"dataframe\">\n",
       "  <thead>\n",
       "    <tr style=\"text-align: right;\">\n",
       "      <th></th>\n",
       "      <th>id</th>\n",
       "      <th>year</th>\n",
       "      <th>cmun</th>\n",
       "      <th>mun</th>\n",
       "      <th>modality</th>\n",
       "      <th>tot_robs</th>\n",
       "    </tr>\n",
       "  </thead>\n",
       "  <tbody>\n",
       "    <tr>\n",
       "      <th>0</th>\n",
       "      <td>1</td>\n",
       "      <td>2015</td>\n",
       "      <td>9002</td>\n",
       "      <td>Azcapotzalco</td>\n",
       "      <td>Con violencia</td>\n",
       "      <td>883</td>\n",
       "    </tr>\n",
       "    <tr>\n",
       "      <th>1</th>\n",
       "      <td>2</td>\n",
       "      <td>2015</td>\n",
       "      <td>9002</td>\n",
       "      <td>Azcapotzalco</td>\n",
       "      <td>Robo de cables, tubos y otros objetos destinad...</td>\n",
       "      <td>0</td>\n",
       "    </tr>\n",
       "    <tr>\n",
       "      <th>2</th>\n",
       "      <td>3</td>\n",
       "      <td>2015</td>\n",
       "      <td>9002</td>\n",
       "      <td>Azcapotzalco</td>\n",
       "      <td>Robo de cables, tubos y otros objetos destinad...</td>\n",
       "      <td>0</td>\n",
       "    </tr>\n",
       "    <tr>\n",
       "      <th>3</th>\n",
       "      <td>4</td>\n",
       "      <td>2015</td>\n",
       "      <td>9002</td>\n",
       "      <td>Azcapotzalco</td>\n",
       "      <td>Robo de coche de 4 ruedas Con violencia</td>\n",
       "      <td>159</td>\n",
       "    </tr>\n",
       "    <tr>\n",
       "      <th>4</th>\n",
       "      <td>5</td>\n",
       "      <td>2015</td>\n",
       "      <td>9002</td>\n",
       "      <td>Azcapotzalco</td>\n",
       "      <td>Robo de coche de 4 ruedas Sin violencia</td>\n",
       "      <td>559</td>\n",
       "    </tr>\n",
       "  </tbody>\n",
       "</table>\n",
       "</div>"
      ],
      "text/plain": [
       "   id  year  cmun           mun  \\\n",
       "0   1  2015  9002  Azcapotzalco   \n",
       "1   2  2015  9002  Azcapotzalco   \n",
       "2   3  2015  9002  Azcapotzalco   \n",
       "3   4  2015  9002  Azcapotzalco   \n",
       "4   5  2015  9002  Azcapotzalco   \n",
       "\n",
       "                                            modality  tot_robs  \n",
       "0                                      Con violencia       883  \n",
       "1  Robo de cables, tubos y otros objetos destinad...         0  \n",
       "2  Robo de cables, tubos y otros objetos destinad...         0  \n",
       "3            Robo de coche de 4 ruedas Con violencia       159  \n",
       "4            Robo de coche de 4 ruedas Sin violencia       559  "
      ]
     },
     "execution_count": 22,
     "metadata": {},
     "output_type": "execute_result"
    }
   ],
   "source": [
    " pd.read_sql_query('select * from crime', con=engine).head()"
   ]
  },
  {
   "cell_type": "code",
   "execution_count": null,
   "metadata": {},
   "outputs": [],
   "source": []
  },
  {
   "cell_type": "code",
   "execution_count": null,
   "metadata": {},
   "outputs": [],
   "source": []
  }
 ],
 "metadata": {
  "kernelspec": {
   "display_name": "Python 3",
   "language": "python",
   "name": "python3"
  },
  "language_info": {
   "codemirror_mode": {
    "name": "ipython",
    "version": 3
   },
   "file_extension": ".py",
   "mimetype": "text/x-python",
   "name": "python",
   "nbconvert_exporter": "python",
   "pygments_lexer": "ipython3",
   "version": "3.7.6"
  }
 },
 "nbformat": 4,
 "nbformat_minor": 4
}
